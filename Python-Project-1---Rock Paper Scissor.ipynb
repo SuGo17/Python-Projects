{
 "cells": [
  {
   "cell_type": "markdown",
   "metadata": {},
   "source": [
    "# Rock  Paper Scissor"
   ]
  },
  {
   "cell_type": "code",
   "execution_count": 1,
   "metadata": {},
   "outputs": [],
   "source": [
    "from random import randint"
   ]
  },
  {
   "cell_type": "code",
   "execution_count": 2,
   "metadata": {},
   "outputs": [],
   "source": [
    "def take_input():\n",
    "    while True:\n",
    "        try:\n",
    "            uc = input('Choose Rock, Paper or Scissor: ')\n",
    "            if uc[0].lower() not in ['r','p','s']:\n",
    "                raise Exception('Please Select A Valid Option')\n",
    "            else:\n",
    "                break\n",
    "        except:\n",
    "            print('Please Give A Valid Input')\n",
    "    return uc"
   ]
  },
  {
   "cell_type": "code",
   "execution_count": 3,
   "metadata": {},
   "outputs": [],
   "source": [
    "def comp_input():\n",
    "    cc = randint(1,3)\n",
    "    if cc == 1:\n",
    "        comp_choice = 'r'\n",
    "    elif cc == 2:\n",
    "        comp_choice = 'p'\n",
    "    else:\n",
    "        comp_choice = 's'\n",
    "    return comp_choice"
   ]
  },
  {
   "cell_type": "code",
   "execution_count": 4,
   "metadata": {},
   "outputs": [
    {
     "name": "stdout",
     "output_type": "stream",
     "text": [
      "Enter Your Name: SuGo\n",
      "Are you ready? y\n",
      "Choose Rock, Paper or Scissor: rock\n",
      "You have choosen Scissor and Computer has choosen Paper, You Won\n",
      "\n",
      " \n",
      " \n",
      "\n",
      "SuGo's wins: '1                      Computer's wins: 0\n",
      "Do you want to play again: yes\n",
      "Choose Rock, Paper or Scissor: paper\n",
      "You have choosen Scissor and Computer has choosen Paper, You Won\n",
      "\n",
      " \n",
      " \n",
      "\n",
      "SuGo's wins: '2                      Computer's wins: 0\n",
      "Do you want to play again: y\n",
      "Choose Rock, Paper or Scissor: rock\n",
      "You have choosen Scissor and Computer has choosen Paper, You Won\n",
      "\n",
      " \n",
      " \n",
      "\n",
      "SuGo's wins: '3                      Computer's wins: 0\n",
      "Do you want to play again: y\n",
      "Choose Rock, Paper or Scissor: scissor\n",
      "You have choosen Scissor and Computer has choosen Paper, You Won\n",
      "\n",
      " \n",
      " \n",
      "\n",
      "SuGo's wins: '4                      Computer's wins: 0\n",
      "Do you want to play again: no\n"
     ]
    }
   ],
   "source": [
    "pw = 0\n",
    "cw = 0\n",
    "player_name = input('Enter Your Name: ')\n",
    "ready = input('Are you ready? ')\n",
    "count = 0\n",
    "while ready[0].lower() == 'y':\n",
    "    player_input = take_input()\n",
    "    computer_input = comp_input()\n",
    "    if player_input == computer_input:\n",
    "        print('You and Computer both have choosen same, Draw match.')\n",
    "    elif player_input == 'r' and computer_input == 'p':\n",
    "        print('You have choosen Rock and Computer has choosen Paper, Computer Won')\n",
    "        cw+=1\n",
    "    elif player_input == 'r' and computer_input == 's':\n",
    "        print('You have choosen Rock and Computer has choosen Scissor, You Won')\n",
    "        pw+=1\n",
    "    elif player_input == 'p' and computer_input == 'r':\n",
    "        print('You have choosen Paper and Computer has choosen Rock, You Won')\n",
    "        pw+=1\n",
    "    elif player_input == 'p' and computer_input == 's':\n",
    "        print('You have choosen Paper and Computer has choosen Scissor, Computer won')\n",
    "        cw+=1\n",
    "    elif player_input == 's' and computer_input == 'r':\n",
    "        print('You have choosen Scissor and Computer has choosen Rock, Computer Won')\n",
    "        cw+=1\n",
    "    else:\n",
    "        print('You have choosen Scissor and Computer has choosen Paper, You Won')\n",
    "        pw+=1\n",
    "    print('\\n \\n \\n')\n",
    "    print(player_name + \"'s wins: '\" + str(pw) + '                      ' + \"Computer's wins: \" + str(cw))\n",
    "    ready = input('Do you want to play again: ')\n",
    "    if ready[0].lower() != 'y':\n",
    "        break"
   ]
  },
  {
   "cell_type": "code",
   "execution_count": null,
   "metadata": {},
   "outputs": [],
   "source": []
  }
 ],
 "metadata": {
  "kernelspec": {
   "display_name": "Python 3",
   "language": "python",
   "name": "python3"
  },
  "language_info": {
   "codemirror_mode": {
    "name": "ipython",
    "version": 3
   },
   "file_extension": ".py",
   "mimetype": "text/x-python",
   "name": "python",
   "nbconvert_exporter": "python",
   "pygments_lexer": "ipython3",
   "version": "3.8.5"
  }
 },
 "nbformat": 4,
 "nbformat_minor": 4
}
