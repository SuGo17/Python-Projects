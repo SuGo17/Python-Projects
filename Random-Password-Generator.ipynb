{
 "cells": [
  {
   "cell_type": "markdown",
   "metadata": {},
   "source": [
    "# Random-Password-Generator"
   ]
  },
  {
   "cell_type": "code",
   "execution_count": 1,
   "metadata": {},
   "outputs": [],
   "source": [
    "# take a list of characters\n",
    "chars = 'abcdefghijklmnopqrstuvwxyzABCDEFGHIJKLMNOPQRSTUVWXYZ1234567890!@#$%^&*`'"
   ]
  },
  {
   "cell_type": "code",
   "execution_count": 2,
   "metadata": {},
   "outputs": [
    {
     "name": "stdout",
     "output_type": "stream",
     "text": [
      "Enter the password length: 15\n"
     ]
    }
   ],
   "source": [
    "# Take input of length of the Password\n",
    "pass_len = int(input('Enter the password length: '))"
   ]
  },
  {
   "cell_type": "code",
   "execution_count": 3,
   "metadata": {},
   "outputs": [
    {
     "name": "stdout",
     "output_type": "stream",
     "text": [
      "Enter the number of password you want: 8\n"
     ]
    }
   ],
   "source": [
    "# Take input of number of Password required by the user\n",
    "no_of_pass = int(input('Enter the number of password you want: '))"
   ]
  },
  {
   "cell_type": "code",
   "execution_count": 4,
   "metadata": {},
   "outputs": [],
   "source": [
    "#import random function as rd\n",
    "import random as rd"
   ]
  },
  {
   "cell_type": "code",
   "execution_count": 5,
   "metadata": {},
   "outputs": [
    {
     "name": "stdout",
     "output_type": "stream",
     "text": [
      "Q2#v&tFYRYbUHa7\n",
      "aJBofJrpxawnT*Y\n",
      "`aDy$TaB$Lbdc#K\n",
      "hS4dWru*mE@Fs@P\n",
      "&f`L2^6KdR3%bc3\n",
      "iHppnc7yxzUmqmV\n",
      "RPan0vdNqGur72R\n",
      "Zfl1jX#GP**x6Ro\n"
     ]
    }
   ],
   "source": [
    "# Creating Password using Random module\n",
    "for i in range(no_of_pass):\n",
    "    password = ''\n",
    "    for j in range(pass_len):\n",
    "        password += rd.choice(chars)\n",
    "    print(password)"
   ]
  }
 ],
 "metadata": {
  "kernelspec": {
   "display_name": "Python 3",
   "language": "python",
   "name": "python3"
  },
  "language_info": {
   "codemirror_mode": {
    "name": "ipython",
    "version": 3
   },
   "file_extension": ".py",
   "mimetype": "text/x-python",
   "name": "python",
   "nbconvert_exporter": "python",
   "pygments_lexer": "ipython3",
   "version": "3.8.5"
  }
 },
 "nbformat": 4,
 "nbformat_minor": 4
}
