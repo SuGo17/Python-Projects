{
 "cells": [
  {
   "cell_type": "code",
   "execution_count": 1,
   "metadata": {},
   "outputs": [],
   "source": [
    "# import random function\n",
    "import random as rd"
   ]
  },
  {
   "cell_type": "code",
   "execution_count": 2,
   "metadata": {},
   "outputs": [],
   "source": [
    "# Dice with higher chances of getting 6\n",
    "def diceSix():\n",
    "    num = [1,2,3,4,5,6,6,6]\n",
    "    # probability of getting 6 is 37.8%\n",
    "    # probability of getting other number is 12.5%\n",
    "    return rd.choice(num)"
   ]
  },
  {
   "cell_type": "code",
   "execution_count": 3,
   "metadata": {},
   "outputs": [
    {
     "data": {
      "text/plain": [
       "1"
      ]
     },
     "execution_count": 3,
     "metadata": {},
     "output_type": "execute_result"
    }
   ],
   "source": [
    "diceSix()"
   ]
  },
  {
   "cell_type": "code",
   "execution_count": 4,
   "metadata": {},
   "outputs": [],
   "source": [
    "# Dice with higher chances of getting 4\n",
    "def diceFour():\n",
    "    num = [1,2,3,4,4,4,5,6]\n",
    "    # probability of getting 4 is 37.8%\n",
    "    # probability of getting other number is 12.5%\n",
    "    return rd.choice(num)"
   ]
  },
  {
   "cell_type": "code",
   "execution_count": 5,
   "metadata": {},
   "outputs": [
    {
     "data": {
      "text/plain": [
       "4"
      ]
     },
     "execution_count": 5,
     "metadata": {},
     "output_type": "execute_result"
    }
   ],
   "source": [
    "diceFour()"
   ]
  },
  {
   "cell_type": "code",
   "execution_count": 6,
   "metadata": {},
   "outputs": [],
   "source": [
    "# Normal dice\n",
    "def Dice():\n",
    "    return rd.randint(1,6)"
   ]
  },
  {
   "cell_type": "code",
   "execution_count": 7,
   "metadata": {},
   "outputs": [
    {
     "data": {
      "text/plain": [
       "1"
      ]
     },
     "execution_count": 7,
     "metadata": {},
     "output_type": "execute_result"
    }
   ],
   "source": [
    "Dice()"
   ]
  },
  {
   "cell_type": "code",
   "execution_count": 8,
   "metadata": {},
   "outputs": [],
   "source": [
    "# Dice with lower probability of getting 4 and 6\n",
    "def hybridDice():\n",
    "    num = [1,1,1,2,2,2,3,3,3,4,5,5,5,6]\n",
    "    #probability of getting 4 and 6 is 7.14%\n",
    "    # probability of getting other number is 21.4%\n",
    "    return rd.choice(num)"
   ]
  },
  {
   "cell_type": "code",
   "execution_count": 9,
   "metadata": {},
   "outputs": [
    {
     "data": {
      "text/plain": [
       "3"
      ]
     },
     "execution_count": 9,
     "metadata": {},
     "output_type": "execute_result"
    }
   ],
   "source": [
    "hybridDice()"
   ]
  },
  {
   "cell_type": "code",
   "execution_count": 10,
   "metadata": {},
   "outputs": [],
   "source": [
    "# Dice assignment\n",
    "def diceAssign():\n",
    "    a = rd.choice([1,2,2,3,3,3,4,4,4,4])\n",
    "    b = rd.choice([1,2,2,3,3,3,4,4,4,4])\n",
    "    return (a,b)"
   ]
  },
  {
   "cell_type": "code",
   "execution_count": 11,
   "metadata": {},
   "outputs": [],
   "source": [
    "# win check \n",
    "def winCheck(pName,player,computer):\n",
    "    if player == computer :\n",
    "        return 'Draw Match'\n",
    "    if player < computer :\n",
    "        return 'Computer Won'\n",
    "    return pName + ' Won'"
   ]
  },
  {
   "cell_type": "code",
   "execution_count": 13,
   "metadata": {},
   "outputs": [
    {
     "name": "stdout",
     "output_type": "stream",
     "text": [
      "Please enter Player Name:Surya\n",
      "Dou you want to Play: yes\n",
      "\n",
      "Surya: 4\n",
      "Computer: 4\n",
      "Draw Match\n",
      "\n",
      "Do you want to play again: no\n"
     ]
    }
   ],
   "source": [
    "# Main Code\n",
    "player = input('Please enter Player Name:')\n",
    "play = input('Dou you want to Play: ')\n",
    "while True:\n",
    "    da = diceAssign()\n",
    "    \n",
    "    \n",
    "    # Assign Player Dice\n",
    "    if da[0] == 1:\n",
    "        playerDice = diceSix()\n",
    "    elif da[0] == 2:\n",
    "        playerDice = diceFour()\n",
    "    elif da[0] == 3:\n",
    "        playerDice = hybridDice()\n",
    "    else:\n",
    "        playerDice = Dice()\n",
    "    \n",
    "    \n",
    "    # Assign Computer DIce\n",
    "    if da[0] == 1:\n",
    "        computerDice = diceSix()\n",
    "    elif da[0] == 2:\n",
    "        computerDice = diceFour()\n",
    "    elif da[0] == 3:\n",
    "        computerDice = hybridDice()\n",
    "    else:\n",
    "        playerDice = Dice()\n",
    "    \n",
    "    \n",
    "    # Check If any one of them have won\n",
    "    result = winCheck(player,playerDice,computerDice)\n",
    "    \n",
    "    # print Dice Values \n",
    "    print('\\nSurya: ' + str(playerDice))\n",
    "    print('Computer: ' + str(computerDice))\n",
    "    \n",
    "    \n",
    "    #print Result \n",
    "    print(result)\n",
    "    \n",
    "    \n",
    "    playAgain = input('\\nDo you want to play again: ')\n",
    "    if playAgain[0].lower != 'y':\n",
    "        break\n",
    "    "
   ]
  }
 ],
 "metadata": {
  "kernelspec": {
   "display_name": "Python 3",
   "language": "python",
   "name": "python3"
  },
  "language_info": {
   "codemirror_mode": {
    "name": "ipython",
    "version": 3
   },
   "file_extension": ".py",
   "mimetype": "text/x-python",
   "name": "python",
   "nbconvert_exporter": "python",
   "pygments_lexer": "ipython3",
   "version": "3.8.5"
  }
 },
 "nbformat": 4,
 "nbformat_minor": 4
}
